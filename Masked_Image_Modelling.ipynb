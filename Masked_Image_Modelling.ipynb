{
  "nbformat": 4,
  "nbformat_minor": 0,
  "metadata": {
    "colab": {
      "provenance": []
    },
    "kernelspec": {
      "name": "python3",
      "display_name": "Python 3"
    },
    "language_info": {
      "name": "python"
    }
  },
  "cells": [
    {
      "cell_type": "code",
      "source": [
        "!pip install einops"
      ],
      "metadata": {
        "id": "TxZzDWI_wqeI"
      },
      "execution_count": null,
      "outputs": []
    },
    {
      "cell_type": "code",
      "execution_count": 1,
      "metadata": {
        "id": "PSohWMlWqhy_"
      },
      "outputs": [],
      "source": [
        "import torch\n",
        "import torch.nn as nn\n",
        "from torchvision import datasets, transforms\n",
        "from torch.utils.data import DataLoader\n",
        "from einops import rearrange\n",
        "import matplotlib.pyplot as plt"
      ]
    },
    {
      "cell_type": "code",
      "source": [
        "class PatchEmbed(nn.Module):\n",
        "    def __init__(self, img_size=224, patch_size=16, in_chans=3, embed_dim=768):\n",
        "        super().__init__()\n",
        "        self.img_size = img_size\n",
        "        self.patch_size = patch_size\n",
        "        self.num_patches = (img_size // patch_size) ** 2\n",
        "        self.proj = nn.Conv2d(in_chans, embed_dim, kernel_size=patch_size, stride=patch_size)\n",
        "\n",
        "    def forward(self, x):\n",
        "        x = self.proj(x)  # (B, C, H, W)\n",
        "        x = rearrange(x, 'b c h w -> b (h w) c')  # (B, N, D)\n",
        "        return x"
      ],
      "metadata": {
        "id": "DgTvV3GjqqgM"
      },
      "execution_count": null,
      "outputs": []
    },
    {
      "cell_type": "code",
      "source": [
        "class MAE(nn.Module):\n",
        "    def __init__(self, encoder, decoder, embed_dim=768, decoder_dim=512, patch_size=16, img_size=224):\n",
        "        super().__init__()\n",
        "        self.patch_embed = PatchEmbed(img_size, patch_size, 3, embed_dim)\n",
        "        self.encoder = encoder\n",
        "        self.decoder = decoder\n",
        "        self.mask_token = nn.Parameter(torch.zeros(1, 1, decoder_dim))\n",
        "        self.decoder_pos_embed = nn.Parameter(torch.randn(1, self.patch_embed.num_patches, decoder_dim))\n",
        "        self.reconstruction_head = nn.Linear(decoder_dim, patch_size**2 * 3)\n",
        "\n",
        "    def forward(self, x, mask_ratio=0.75):\n",
        "        B = x.shape[0]\n",
        "        x = self.patch_embed(x)\n",
        "        N, D = x.shape[1], x.shape[2]\n",
        "\n",
        "        num_mask = int(mask_ratio * N)\n",
        "        noise = torch.rand(B, N, device=x.device)\n",
        "        ids_shuffle = torch.argsort(noise, dim=1)\n",
        "        ids_restore = torch.argsort(ids_shuffle, dim=1)\n",
        "        ids_keep = ids_shuffle[:, :-num_mask]\n",
        "        x_visible = torch.gather(x, dim=1, index=ids_keep.unsqueeze(-1).repeat(1, 1, D))\n",
        "\n",
        "        x_encoded = self.encoder(x_visible)\n",
        "        decoder_tokens = torch.zeros(B, N, self.mask_token.size(-1), device=x.device)\n",
        "        decoder_tokens.scatter_(1, ids_keep.unsqueeze(-1).repeat(1, 1, self.mask_token.size(-1)), x_encoded)\n",
        "        decoder_tokens = decoder_tokens + self.decoder_pos_embed\n",
        "\n",
        "        x_decoded = self.decoder(decoder_tokens)\n",
        "        x_reconstructed = self.reconstruction_head(x_decoded)\n",
        "\n",
        "        return x_reconstructed, ids_restore\n"
      ],
      "metadata": {
        "id": "O7s9CNzpqr-u"
      },
      "execution_count": 5,
      "outputs": []
    },
    {
      "cell_type": "code",
      "source": [
        "def patchify(imgs, patch_size=16):\n",
        "    p = patch_size\n",
        "    h, w = imgs.shape[2] // p, imgs.shape[3] // p\n",
        "    patches = imgs.unfold(2, p, p).unfold(3, p, p)\n",
        "    patches = patches.contiguous().view(imgs.shape[0], 3, h, w, p, p)\n",
        "    patches = patches.permute(0, 2, 3, 1, 4, 5).reshape(imgs.shape[0], h * w, -1)\n",
        "    return patches\n",
        "\n",
        "def mae_loss(pred, target, mask):\n",
        "    loss = (pred - target) ** 2\n",
        "    loss = loss.mean(dim=-1)\n",
        "    loss = (loss * mask).sum() / mask.sum()\n",
        "    return loss\n"
      ],
      "metadata": {
        "id": "4Ve8xEdrqvWX"
      },
      "execution_count": null,
      "outputs": []
    },
    {
      "cell_type": "code",
      "source": [
        "from torchvision.datasets import ImageFolder\n",
        "from glob import glob\n",
        "import os\n",
        "\n",
        "train_dirs = sorted(glob(\"/content/ssl_dataset/train.X*\"))\n",
        "\n",
        "all_train_data = []\n",
        "for d in train_dirs:\n",
        "    ds = ImageFolder(d, transform=transform)\n",
        "    all_train_data.extend(ds.samples)\n",
        "\n",
        "# Create a new ImageFolder with combined dataset\n",
        "from torch.utils.data import Dataset\n",
        "class CombinedImageNet100(Dataset):\n",
        "    def __init__(self, samples, transform=None):\n",
        "        self.samples = samples\n",
        "        self.transform = transform\n",
        "\n",
        "    def __getitem__(self, idx):\n",
        "        path, label = self.samples[idx]\n",
        "        img = datasets.folder.default_loader(path)\n",
        "        if self.transform:\n",
        "            img = self.transform(img)\n",
        "        return img, label\n",
        "\n",
        "    def __len__(self):\n",
        "        return len(self.samples)\n",
        "\n",
        "transform = transforms.Compose([\n",
        "    transforms.Resize(224),\n",
        "    transforms.CenterCrop(224),\n",
        "    transforms.ToTensor()\n",
        "])\n",
        "\n",
        "dataset = CombinedImageNet100(all_train_data, transform=transform)\n",
        "loader = DataLoader(dataset, batch_size=32, shuffle=True, num_workers=2)\n",
        "# Encoder and Decoder\n",
        "encoder = nn.TransformerEncoder(nn.TransformerEncoderLayer(768, 12), num_layers=6)\n",
        "decoder = nn.TransformerEncoder(nn.TransformerEncoderLayer(512, 8), num_layers=4)\n",
        "model = MAE(encoder, decoder).cuda()\n",
        "optimizer = torch.optim.Adam(model.parameters(), lr=1e-4)\n"
      ],
      "metadata": {
        "id": "Rujdu6D0qwq-"
      },
      "execution_count": null,
      "outputs": []
    },
    {
      "cell_type": "code",
      "source": [
        "for epoch in range(3):\n",
        "    for imgs, _ in loader:\n",
        "        imgs = imgs.cuda()\n",
        "        preds, ids_restore = model(imgs, mask_ratio=0.75)\n",
        "        target = patchify(imgs)\n",
        "\n",
        "        N = preds.shape[1]\n",
        "        mask = torch.ones_like(preds[:, :, 0])\n",
        "        mask.scatter_(1, ids_restore[:, :-int(0.25 * N)], 0)\n",
        "\n",
        "        loss = mae_loss(preds, target.cuda(), mask.cuda())\n",
        "        optimizer.zero_grad()\n",
        "        loss.backward()\n",
        "        optimizer.step()\n",
        "\n",
        "    print(f\"Epoch {epoch+1}: Loss = {loss.item():.4f}\")"
      ],
      "metadata": {
        "id": "OG0Qe91BqyJM"
      },
      "execution_count": null,
      "outputs": []
    }
  ]
}